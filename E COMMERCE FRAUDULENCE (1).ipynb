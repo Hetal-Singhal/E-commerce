{
 "cells": [
  {
   "cell_type": "code",
   "execution_count": null,
   "id": "cb2acc60-2d19-47a2-86ee-c9cfaaf1726c",
   "metadata": {},
   "outputs": [],
   "source": [
    "IMPORTING OF LIBRA"
   ]
  },
  {
   "cell_type": "code",
   "execution_count": 1,
   "id": "700d394e-482b-40d3-9d63-be4909e9a9a5",
   "metadata": {},
   "outputs": [],
   "source": [
    "import numpy as np\n",
    "import pandas as pd"
   ]
  },
  {
   "cell_type": "code",
   "execution_count": 2,
   "id": "ca04c5ce-3c55-405f-8789-15b600bc69ce",
   "metadata": {},
   "outputs": [],
   "source": [
    "data=pd.read_csv(\"C:\\\\Users\\\\hsing\\\\Downloads\\\\dataset\\\\Fraudulent_E-Commerce_Transaction_Data.csv\")"
   ]
  },
  {
   "cell_type": "code",
   "execution_count": 3,
   "id": "71797f2d-6d0d-4f5a-b9fd-2e46fdd64074",
   "metadata": {},
   "outputs": [
    {
     "data": {
      "text/html": [
       "<div>\n",
       "<style scoped>\n",
       "    .dataframe tbody tr th:only-of-type {\n",
       "        vertical-align: middle;\n",
       "    }\n",
       "\n",
       "    .dataframe tbody tr th {\n",
       "        vertical-align: top;\n",
       "    }\n",
       "\n",
       "    .dataframe thead th {\n",
       "        text-align: right;\n",
       "    }\n",
       "</style>\n",
       "<table border=\"1\" class=\"dataframe\">\n",
       "  <thead>\n",
       "    <tr style=\"text-align: right;\">\n",
       "      <th></th>\n",
       "      <th>Transaction ID</th>\n",
       "      <th>Customer ID</th>\n",
       "      <th>Transaction Amount</th>\n",
       "      <th>Transaction Date</th>\n",
       "      <th>Payment Method</th>\n",
       "      <th>Product Category</th>\n",
       "      <th>Quantity</th>\n",
       "      <th>Customer Age</th>\n",
       "      <th>Customer Location</th>\n",
       "      <th>Device Used</th>\n",
       "      <th>IP Address</th>\n",
       "      <th>Shipping Address</th>\n",
       "      <th>Billing Address</th>\n",
       "      <th>Is Fraudulent</th>\n",
       "      <th>Account Age Days</th>\n",
       "      <th>Transaction Hour</th>\n",
       "    </tr>\n",
       "  </thead>\n",
       "  <tbody>\n",
       "    <tr>\n",
       "      <th>0</th>\n",
       "      <td>15d2e414-8735-46fc-9e02-80b472b2580f</td>\n",
       "      <td>d1b87f62-51b2-493b-ad6a-77e0fe13e785</td>\n",
       "      <td>58.09</td>\n",
       "      <td>2024-02-20 05:58:41</td>\n",
       "      <td>bank transfer</td>\n",
       "      <td>electronics</td>\n",
       "      <td>1</td>\n",
       "      <td>17</td>\n",
       "      <td>Amandaborough</td>\n",
       "      <td>tablet</td>\n",
       "      <td>212.195.49.198</td>\n",
       "      <td>Unit 8934 Box 0058\\nDPO AA 05437</td>\n",
       "      <td>Unit 8934 Box 0058\\nDPO AA 05437</td>\n",
       "      <td>0</td>\n",
       "      <td>30</td>\n",
       "      <td>5</td>\n",
       "    </tr>\n",
       "    <tr>\n",
       "      <th>1</th>\n",
       "      <td>0bfee1a0-6d5e-40da-a446-d04e73b1b177</td>\n",
       "      <td>37de64d5-e901-4a56-9ea0-af0c24c069cf</td>\n",
       "      <td>389.96</td>\n",
       "      <td>2024-02-25 08:09:45</td>\n",
       "      <td>debit card</td>\n",
       "      <td>electronics</td>\n",
       "      <td>2</td>\n",
       "      <td>40</td>\n",
       "      <td>East Timothy</td>\n",
       "      <td>desktop</td>\n",
       "      <td>208.106.249.121</td>\n",
       "      <td>634 May Keys\\nPort Cherylview, NV 75063</td>\n",
       "      <td>634 May Keys\\nPort Cherylview, NV 75063</td>\n",
       "      <td>0</td>\n",
       "      <td>72</td>\n",
       "      <td>8</td>\n",
       "    </tr>\n",
       "    <tr>\n",
       "      <th>2</th>\n",
       "      <td>e588eef4-b754-468e-9d90-d0e0abfc1af0</td>\n",
       "      <td>1bac88d6-4b22-409a-a06b-425119c57225</td>\n",
       "      <td>134.19</td>\n",
       "      <td>2024-03-18 03:42:55</td>\n",
       "      <td>PayPal</td>\n",
       "      <td>home &amp; garden</td>\n",
       "      <td>2</td>\n",
       "      <td>22</td>\n",
       "      <td>Davismouth</td>\n",
       "      <td>tablet</td>\n",
       "      <td>76.63.88.212</td>\n",
       "      <td>16282 Dana Falls Suite 790\\nRothhaven, IL 15564</td>\n",
       "      <td>16282 Dana Falls Suite 790\\nRothhaven, IL 15564</td>\n",
       "      <td>0</td>\n",
       "      <td>63</td>\n",
       "      <td>3</td>\n",
       "    </tr>\n",
       "    <tr>\n",
       "      <th>3</th>\n",
       "      <td>4de46e52-60c3-49d9-be39-636681009789</td>\n",
       "      <td>2357c76e-9253-4ceb-b44e-ef4b71cb7d4d</td>\n",
       "      <td>226.17</td>\n",
       "      <td>2024-03-16 20:41:31</td>\n",
       "      <td>bank transfer</td>\n",
       "      <td>clothing</td>\n",
       "      <td>5</td>\n",
       "      <td>31</td>\n",
       "      <td>Lynnberg</td>\n",
       "      <td>desktop</td>\n",
       "      <td>207.208.171.73</td>\n",
       "      <td>828 Strong Loaf Apt. 646\\nNew Joshua, UT 84798</td>\n",
       "      <td>828 Strong Loaf Apt. 646\\nNew Joshua, UT 84798</td>\n",
       "      <td>0</td>\n",
       "      <td>124</td>\n",
       "      <td>20</td>\n",
       "    </tr>\n",
       "    <tr>\n",
       "      <th>4</th>\n",
       "      <td>074a76de-fe2d-443e-a00c-f044cdb68e21</td>\n",
       "      <td>45071bc5-9588-43ea-8093-023caec8ea1c</td>\n",
       "      <td>121.53</td>\n",
       "      <td>2024-01-15 05:08:17</td>\n",
       "      <td>bank transfer</td>\n",
       "      <td>clothing</td>\n",
       "      <td>2</td>\n",
       "      <td>51</td>\n",
       "      <td>South Nicole</td>\n",
       "      <td>tablet</td>\n",
       "      <td>190.172.14.169</td>\n",
       "      <td>29799 Jason Hills Apt. 439\\nWest Richardtown, ...</td>\n",
       "      <td>29799 Jason Hills Apt. 439\\nWest Richardtown, ...</td>\n",
       "      <td>0</td>\n",
       "      <td>158</td>\n",
       "      <td>5</td>\n",
       "    </tr>\n",
       "    <tr>\n",
       "      <th>...</th>\n",
       "      <td>...</td>\n",
       "      <td>...</td>\n",
       "      <td>...</td>\n",
       "      <td>...</td>\n",
       "      <td>...</td>\n",
       "      <td>...</td>\n",
       "      <td>...</td>\n",
       "      <td>...</td>\n",
       "      <td>...</td>\n",
       "      <td>...</td>\n",
       "      <td>...</td>\n",
       "      <td>...</td>\n",
       "      <td>...</td>\n",
       "      <td>...</td>\n",
       "      <td>...</td>\n",
       "      <td>...</td>\n",
       "    </tr>\n",
       "    <tr>\n",
       "      <th>1472947</th>\n",
       "      <td>c8604004-2f4c-42ce-a1c4-cd2bebca79bb</td>\n",
       "      <td>f8a534ad-0458-465e-a85b-3ad2cdf391bc</td>\n",
       "      <td>208.48</td>\n",
       "      <td>2024-01-12 23:39:55</td>\n",
       "      <td>PayPal</td>\n",
       "      <td>health &amp; beauty</td>\n",
       "      <td>2</td>\n",
       "      <td>29</td>\n",
       "      <td>North Laurafort</td>\n",
       "      <td>desktop</td>\n",
       "      <td>27.245.104.92</td>\n",
       "      <td>USNV Griffin\\nFPO AA 52700</td>\n",
       "      <td>USNV Griffin\\nFPO AA 52700</td>\n",
       "      <td>0</td>\n",
       "      <td>149</td>\n",
       "      <td>23</td>\n",
       "    </tr>\n",
       "    <tr>\n",
       "      <th>1472948</th>\n",
       "      <td>fff0df19-fd4a-42a5-bc42-64bb7b02edb0</td>\n",
       "      <td>f2ef2239-d9b9-40d0-9993-4b8f305d5a7b</td>\n",
       "      <td>231.57</td>\n",
       "      <td>2024-03-27 04:31:45</td>\n",
       "      <td>credit card</td>\n",
       "      <td>clothing</td>\n",
       "      <td>2</td>\n",
       "      <td>32</td>\n",
       "      <td>Burnsville</td>\n",
       "      <td>tablet</td>\n",
       "      <td>203.54.50.163</td>\n",
       "      <td>478 John Square Apt. 235\\nMillerhaven, GA 68797</td>\n",
       "      <td>478 John Square Apt. 235\\nMillerhaven, GA 68797</td>\n",
       "      <td>0</td>\n",
       "      <td>132</td>\n",
       "      <td>4</td>\n",
       "    </tr>\n",
       "    <tr>\n",
       "      <th>1472949</th>\n",
       "      <td>9e79012f-e00b-47d1-8700-0c302db20d3e</td>\n",
       "      <td>fa5b9a25-9606-478a-8abe-ef20bbb3980f</td>\n",
       "      <td>101.80</td>\n",
       "      <td>2024-01-31 23:51:42</td>\n",
       "      <td>bank transfer</td>\n",
       "      <td>electronics</td>\n",
       "      <td>4</td>\n",
       "      <td>36</td>\n",
       "      <td>Garciafort</td>\n",
       "      <td>mobile</td>\n",
       "      <td>51.241.30.149</td>\n",
       "      <td>351 Frazier Radial Apt. 989\\nPort Charles, OH ...</td>\n",
       "      <td>182 House Island Suite 198\\nEast Scott, FM 84301</td>\n",
       "      <td>0</td>\n",
       "      <td>98</td>\n",
       "      <td>23</td>\n",
       "    </tr>\n",
       "    <tr>\n",
       "      <th>1472950</th>\n",
       "      <td>917066b1-4dfb-4472-b3f0-292663c45d21</td>\n",
       "      <td>04524272-e14f-460b-bc70-5316bd28463d</td>\n",
       "      <td>61.80</td>\n",
       "      <td>2024-01-12 16:21:32</td>\n",
       "      <td>bank transfer</td>\n",
       "      <td>electronics</td>\n",
       "      <td>5</td>\n",
       "      <td>34</td>\n",
       "      <td>Lake Josephberg</td>\n",
       "      <td>desktop</td>\n",
       "      <td>210.67.203.4</td>\n",
       "      <td>27307 Gonzalez Shore Suite 661\\nPort Lynn, WV ...</td>\n",
       "      <td>27307 Gonzalez Shore Suite 661\\nPort Lynn, WV ...</td>\n",
       "      <td>0</td>\n",
       "      <td>191</td>\n",
       "      <td>16</td>\n",
       "    </tr>\n",
       "    <tr>\n",
       "      <th>1472951</th>\n",
       "      <td>d1a811a2-6015-47fa-95e5-0a5282755932</td>\n",
       "      <td>637d5ed1-a4af-4234-a1d9-a3791b6f1bb6</td>\n",
       "      <td>376.44</td>\n",
       "      <td>2024-02-19 18:57:20</td>\n",
       "      <td>bank transfer</td>\n",
       "      <td>clothing</td>\n",
       "      <td>5</td>\n",
       "      <td>34</td>\n",
       "      <td>Fullermouth</td>\n",
       "      <td>desktop</td>\n",
       "      <td>107.116.208.218</td>\n",
       "      <td>Unit 0520 Box 5911\\nDPO AE 75554</td>\n",
       "      <td>Unit 0520 Box 5911\\nDPO AE 75554</td>\n",
       "      <td>0</td>\n",
       "      <td>274</td>\n",
       "      <td>18</td>\n",
       "    </tr>\n",
       "  </tbody>\n",
       "</table>\n",
       "<p>1472952 rows × 16 columns</p>\n",
       "</div>"
      ],
      "text/plain": [
       "                               Transaction ID  \\\n",
       "0        15d2e414-8735-46fc-9e02-80b472b2580f   \n",
       "1        0bfee1a0-6d5e-40da-a446-d04e73b1b177   \n",
       "2        e588eef4-b754-468e-9d90-d0e0abfc1af0   \n",
       "3        4de46e52-60c3-49d9-be39-636681009789   \n",
       "4        074a76de-fe2d-443e-a00c-f044cdb68e21   \n",
       "...                                       ...   \n",
       "1472947  c8604004-2f4c-42ce-a1c4-cd2bebca79bb   \n",
       "1472948  fff0df19-fd4a-42a5-bc42-64bb7b02edb0   \n",
       "1472949  9e79012f-e00b-47d1-8700-0c302db20d3e   \n",
       "1472950  917066b1-4dfb-4472-b3f0-292663c45d21   \n",
       "1472951  d1a811a2-6015-47fa-95e5-0a5282755932   \n",
       "\n",
       "                                  Customer ID  Transaction Amount  \\\n",
       "0        d1b87f62-51b2-493b-ad6a-77e0fe13e785               58.09   \n",
       "1        37de64d5-e901-4a56-9ea0-af0c24c069cf              389.96   \n",
       "2        1bac88d6-4b22-409a-a06b-425119c57225              134.19   \n",
       "3        2357c76e-9253-4ceb-b44e-ef4b71cb7d4d              226.17   \n",
       "4        45071bc5-9588-43ea-8093-023caec8ea1c              121.53   \n",
       "...                                       ...                 ...   \n",
       "1472947  f8a534ad-0458-465e-a85b-3ad2cdf391bc              208.48   \n",
       "1472948  f2ef2239-d9b9-40d0-9993-4b8f305d5a7b              231.57   \n",
       "1472949  fa5b9a25-9606-478a-8abe-ef20bbb3980f              101.80   \n",
       "1472950  04524272-e14f-460b-bc70-5316bd28463d               61.80   \n",
       "1472951  637d5ed1-a4af-4234-a1d9-a3791b6f1bb6              376.44   \n",
       "\n",
       "            Transaction Date Payment Method Product Category  Quantity  \\\n",
       "0        2024-02-20 05:58:41  bank transfer      electronics         1   \n",
       "1        2024-02-25 08:09:45     debit card      electronics         2   \n",
       "2        2024-03-18 03:42:55         PayPal    home & garden         2   \n",
       "3        2024-03-16 20:41:31  bank transfer         clothing         5   \n",
       "4        2024-01-15 05:08:17  bank transfer         clothing         2   \n",
       "...                      ...            ...              ...       ...   \n",
       "1472947  2024-01-12 23:39:55         PayPal  health & beauty         2   \n",
       "1472948  2024-03-27 04:31:45    credit card         clothing         2   \n",
       "1472949  2024-01-31 23:51:42  bank transfer      electronics         4   \n",
       "1472950  2024-01-12 16:21:32  bank transfer      electronics         5   \n",
       "1472951  2024-02-19 18:57:20  bank transfer         clothing         5   \n",
       "\n",
       "         Customer Age Customer Location Device Used       IP Address  \\\n",
       "0                  17     Amandaborough      tablet   212.195.49.198   \n",
       "1                  40      East Timothy     desktop  208.106.249.121   \n",
       "2                  22        Davismouth      tablet     76.63.88.212   \n",
       "3                  31          Lynnberg     desktop   207.208.171.73   \n",
       "4                  51      South Nicole      tablet   190.172.14.169   \n",
       "...               ...               ...         ...              ...   \n",
       "1472947            29   North Laurafort     desktop    27.245.104.92   \n",
       "1472948            32        Burnsville      tablet    203.54.50.163   \n",
       "1472949            36        Garciafort      mobile    51.241.30.149   \n",
       "1472950            34   Lake Josephberg     desktop     210.67.203.4   \n",
       "1472951            34       Fullermouth     desktop  107.116.208.218   \n",
       "\n",
       "                                          Shipping Address  \\\n",
       "0                         Unit 8934 Box 0058\\nDPO AA 05437   \n",
       "1                  634 May Keys\\nPort Cherylview, NV 75063   \n",
       "2          16282 Dana Falls Suite 790\\nRothhaven, IL 15564   \n",
       "3           828 Strong Loaf Apt. 646\\nNew Joshua, UT 84798   \n",
       "4        29799 Jason Hills Apt. 439\\nWest Richardtown, ...   \n",
       "...                                                    ...   \n",
       "1472947                         USNV Griffin\\nFPO AA 52700   \n",
       "1472948    478 John Square Apt. 235\\nMillerhaven, GA 68797   \n",
       "1472949  351 Frazier Radial Apt. 989\\nPort Charles, OH ...   \n",
       "1472950  27307 Gonzalez Shore Suite 661\\nPort Lynn, WV ...   \n",
       "1472951                   Unit 0520 Box 5911\\nDPO AE 75554   \n",
       "\n",
       "                                           Billing Address  Is Fraudulent  \\\n",
       "0                         Unit 8934 Box 0058\\nDPO AA 05437              0   \n",
       "1                  634 May Keys\\nPort Cherylview, NV 75063              0   \n",
       "2          16282 Dana Falls Suite 790\\nRothhaven, IL 15564              0   \n",
       "3           828 Strong Loaf Apt. 646\\nNew Joshua, UT 84798              0   \n",
       "4        29799 Jason Hills Apt. 439\\nWest Richardtown, ...              0   \n",
       "...                                                    ...            ...   \n",
       "1472947                         USNV Griffin\\nFPO AA 52700              0   \n",
       "1472948    478 John Square Apt. 235\\nMillerhaven, GA 68797              0   \n",
       "1472949   182 House Island Suite 198\\nEast Scott, FM 84301              0   \n",
       "1472950  27307 Gonzalez Shore Suite 661\\nPort Lynn, WV ...              0   \n",
       "1472951                   Unit 0520 Box 5911\\nDPO AE 75554              0   \n",
       "\n",
       "         Account Age Days  Transaction Hour  \n",
       "0                      30                 5  \n",
       "1                      72                 8  \n",
       "2                      63                 3  \n",
       "3                     124                20  \n",
       "4                     158                 5  \n",
       "...                   ...               ...  \n",
       "1472947               149                23  \n",
       "1472948               132                 4  \n",
       "1472949                98                23  \n",
       "1472950               191                16  \n",
       "1472951               274                18  \n",
       "\n",
       "[1472952 rows x 16 columns]"
      ]
     },
     "execution_count": 3,
     "metadata": {},
     "output_type": "execute_result"
    }
   ],
   "source": [
    "data"
   ]
  },
  {
   "cell_type": "code",
   "execution_count": 4,
   "id": "57735c94-5e3e-4ee6-b5d0-f741e8abc36c",
   "metadata": {},
   "outputs": [
    {
     "data": {
      "text/plain": [
       "Transaction ID        0\n",
       "Customer ID           0\n",
       "Transaction Amount    0\n",
       "Transaction Date      0\n",
       "Payment Method        0\n",
       "Product Category      0\n",
       "Quantity              0\n",
       "Customer Age          0\n",
       "Customer Location     0\n",
       "Device Used           0\n",
       "IP Address            0\n",
       "Shipping Address      0\n",
       "Billing Address       0\n",
       "Is Fraudulent         0\n",
       "Account Age Days      0\n",
       "Transaction Hour      0\n",
       "dtype: int64"
      ]
     },
     "execution_count": 4,
     "metadata": {},
     "output_type": "execute_result"
    }
   ],
   "source": [
    "data.isnull().sum()\n"
   ]
  },
  {
   "cell_type": "code",
   "execution_count": 5,
   "id": "30a1e9c9-4325-4ef9-926c-371a25b8c82d",
   "metadata": {},
   "outputs": [
    {
     "data": {
      "text/html": [
       "<div>\n",
       "<style scoped>\n",
       "    .dataframe tbody tr th:only-of-type {\n",
       "        vertical-align: middle;\n",
       "    }\n",
       "\n",
       "    .dataframe tbody tr th {\n",
       "        vertical-align: top;\n",
       "    }\n",
       "\n",
       "    .dataframe thead th {\n",
       "        text-align: right;\n",
       "    }\n",
       "</style>\n",
       "<table border=\"1\" class=\"dataframe\">\n",
       "  <thead>\n",
       "    <tr style=\"text-align: right;\">\n",
       "      <th></th>\n",
       "      <th>Transaction Amount</th>\n",
       "      <th>Quantity</th>\n",
       "      <th>Customer Age</th>\n",
       "      <th>Is Fraudulent</th>\n",
       "      <th>Account Age Days</th>\n",
       "      <th>Transaction Hour</th>\n",
       "    </tr>\n",
       "  </thead>\n",
       "  <tbody>\n",
       "    <tr>\n",
       "      <th>count</th>\n",
       "      <td>1.472952e+06</td>\n",
       "      <td>1.472952e+06</td>\n",
       "      <td>1.472952e+06</td>\n",
       "      <td>1.472952e+06</td>\n",
       "      <td>1.472952e+06</td>\n",
       "      <td>1.472952e+06</td>\n",
       "    </tr>\n",
       "    <tr>\n",
       "      <th>mean</th>\n",
       "      <td>2.267683e+02</td>\n",
       "      <td>3.000230e+00</td>\n",
       "      <td>3.451208e+01</td>\n",
       "      <td>5.012926e-02</td>\n",
       "      <td>1.796464e+02</td>\n",
       "      <td>1.128696e+01</td>\n",
       "    </tr>\n",
       "    <tr>\n",
       "      <th>std</th>\n",
       "      <td>2.703951e+02</td>\n",
       "      <td>1.414736e+00</td>\n",
       "      <td>1.000313e+01</td>\n",
       "      <td>2.182117e-01</td>\n",
       "      <td>1.068642e+02</td>\n",
       "      <td>6.975995e+00</td>\n",
       "    </tr>\n",
       "    <tr>\n",
       "      <th>min</th>\n",
       "      <td>1.000000e+01</td>\n",
       "      <td>1.000000e+00</td>\n",
       "      <td>-1.600000e+01</td>\n",
       "      <td>0.000000e+00</td>\n",
       "      <td>1.000000e+00</td>\n",
       "      <td>0.000000e+00</td>\n",
       "    </tr>\n",
       "    <tr>\n",
       "      <th>25%</th>\n",
       "      <td>6.861000e+01</td>\n",
       "      <td>2.000000e+00</td>\n",
       "      <td>2.800000e+01</td>\n",
       "      <td>0.000000e+00</td>\n",
       "      <td>8.600000e+01</td>\n",
       "      <td>5.000000e+00</td>\n",
       "    </tr>\n",
       "    <tr>\n",
       "      <th>50%</th>\n",
       "      <td>1.517600e+02</td>\n",
       "      <td>3.000000e+00</td>\n",
       "      <td>3.500000e+01</td>\n",
       "      <td>0.000000e+00</td>\n",
       "      <td>1.790000e+02</td>\n",
       "      <td>1.100000e+01</td>\n",
       "    </tr>\n",
       "    <tr>\n",
       "      <th>75%</th>\n",
       "      <td>2.960500e+02</td>\n",
       "      <td>4.000000e+00</td>\n",
       "      <td>4.100000e+01</td>\n",
       "      <td>0.000000e+00</td>\n",
       "      <td>2.720000e+02</td>\n",
       "      <td>1.700000e+01</td>\n",
       "    </tr>\n",
       "    <tr>\n",
       "      <th>max</th>\n",
       "      <td>1.270175e+04</td>\n",
       "      <td>5.000000e+00</td>\n",
       "      <td>8.600000e+01</td>\n",
       "      <td>1.000000e+00</td>\n",
       "      <td>3.650000e+02</td>\n",
       "      <td>2.300000e+01</td>\n",
       "    </tr>\n",
       "  </tbody>\n",
       "</table>\n",
       "</div>"
      ],
      "text/plain": [
       "       Transaction Amount      Quantity  Customer Age  Is Fraudulent  \\\n",
       "count        1.472952e+06  1.472952e+06  1.472952e+06   1.472952e+06   \n",
       "mean         2.267683e+02  3.000230e+00  3.451208e+01   5.012926e-02   \n",
       "std          2.703951e+02  1.414736e+00  1.000313e+01   2.182117e-01   \n",
       "min          1.000000e+01  1.000000e+00 -1.600000e+01   0.000000e+00   \n",
       "25%          6.861000e+01  2.000000e+00  2.800000e+01   0.000000e+00   \n",
       "50%          1.517600e+02  3.000000e+00  3.500000e+01   0.000000e+00   \n",
       "75%          2.960500e+02  4.000000e+00  4.100000e+01   0.000000e+00   \n",
       "max          1.270175e+04  5.000000e+00  8.600000e+01   1.000000e+00   \n",
       "\n",
       "       Account Age Days  Transaction Hour  \n",
       "count      1.472952e+06      1.472952e+06  \n",
       "mean       1.796464e+02      1.128696e+01  \n",
       "std        1.068642e+02      6.975995e+00  \n",
       "min        1.000000e+00      0.000000e+00  \n",
       "25%        8.600000e+01      5.000000e+00  \n",
       "50%        1.790000e+02      1.100000e+01  \n",
       "75%        2.720000e+02      1.700000e+01  \n",
       "max        3.650000e+02      2.300000e+01  "
      ]
     },
     "execution_count": 5,
     "metadata": {},
     "output_type": "execute_result"
    }
   ],
   "source": [
    "data.describe()"
   ]
  },
  {
   "cell_type": "code",
   "execution_count": 6,
   "id": "321f7234-1188-4530-a88b-31601ace63d9",
   "metadata": {},
   "outputs": [
    {
     "name": "stdout",
     "output_type": "stream",
     "text": [
      "<class 'pandas.core.frame.DataFrame'>\n",
      "RangeIndex: 1472952 entries, 0 to 1472951\n",
      "Data columns (total 16 columns):\n",
      " #   Column              Non-Null Count    Dtype  \n",
      "---  ------              --------------    -----  \n",
      " 0   Transaction ID      1472952 non-null  object \n",
      " 1   Customer ID         1472952 non-null  object \n",
      " 2   Transaction Amount  1472952 non-null  float64\n",
      " 3   Transaction Date    1472952 non-null  object \n",
      " 4   Payment Method      1472952 non-null  object \n",
      " 5   Product Category    1472952 non-null  object \n",
      " 6   Quantity            1472952 non-null  int64  \n",
      " 7   Customer Age        1472952 non-null  int64  \n",
      " 8   Customer Location   1472952 non-null  object \n",
      " 9   Device Used         1472952 non-null  object \n",
      " 10  IP Address          1472952 non-null  object \n",
      " 11  Shipping Address    1472952 non-null  object \n",
      " 12  Billing Address     1472952 non-null  object \n",
      " 13  Is Fraudulent       1472952 non-null  int64  \n",
      " 14  Account Age Days    1472952 non-null  int64  \n",
      " 15  Transaction Hour    1472952 non-null  int64  \n",
      "dtypes: float64(1), int64(5), object(10)\n",
      "memory usage: 179.8+ MB\n"
     ]
    }
   ],
   "source": [
    "data.info()"
   ]
  },
  {
   "cell_type": "code",
   "execution_count": 7,
   "id": "2f5233b5-2582-4f78-b441-c7fe04caddea",
   "metadata": {},
   "outputs": [
    {
     "name": "stdout",
     "output_type": "stream",
     "text": [
      "1472952\n",
      "1472952\n",
      "1472952\n",
      "1346684\n",
      "1472651\n"
     ]
    }
   ],
   "source": [
    "print(data.shape[0])\n",
    "print(len(data['Transaction ID'].unique()))\n",
    "print(len(data['Customer ID'].unique()))\n",
    "print(len(data['Transaction Date'].unique()))\n",
    "print(len(data['IP Address'].unique()))"
   ]
  },
  {
   "cell_type": "code",
   "execution_count": 8,
   "id": "9baea0a4-1614-49d5-b55c-f39e474a6852",
   "metadata": {},
   "outputs": [
    {
     "data": {
      "text/plain": [
       "Is Fraudulent\n",
       "0    1399114\n",
       "1      73838\n",
       "Name: count, dtype: int64"
      ]
     },
     "execution_count": 8,
     "metadata": {},
     "output_type": "execute_result"
    }
   ],
   "source": [
    "data['Is Fraudulent'].value_counts()"
   ]
  },
  {
   "cell_type": "code",
   "execution_count": 9,
   "id": "ca7989d0-c7f6-4bfd-b810-b6fdd0d7c958",
   "metadata": {},
   "outputs": [
    {
     "data": {
      "text/plain": [
       "array([ 17,  40,  22,  31,  51,  34,  14,  42,  38,  39,  20,  35,  45,\n",
       "        27,  54,  41,  30,  29,  33,  49,  18,  48,  13,  46,  32,  37,\n",
       "        52,  43,  24,  36,  58,  16,  21,  26,  55,  25,  23,  28,  60,\n",
       "        50,  63,  19,  62,  53,  44,  47,  67,  12,  57,  11,  15,  56,\n",
       "        59,  61,   8,   2,   9,   5,  10,  69,  65,  64,   0,  73,  -3,\n",
       "        70,   6,  68,   3,   7,   1,   4,  -4,  74,  66,  -1,  71,  -2,\n",
       "        72,  -6,  80,  76,  -8,  77,  -5,  75,  79, -11, -16,  -9, -13,\n",
       "        78,  81, -10,  -7, -12,  86], dtype=int64)"
      ]
     },
     "execution_count": 9,
     "metadata": {},
     "output_type": "execute_result"
    }
   ],
   "source": [
    "data['Customer Age'].unique()\n",
    "#we see negative customer age or age below 9"
   ]
  },
  {
   "cell_type": "code",
   "execution_count": 10,
   "id": "f9ac6d5b-e139-4a3e-b8fc-7d21efba2b56",
   "metadata": {},
   "outputs": [],
   "source": [
    "mean_age = int(data['Customer Age'].mean())\n",
    "data.loc[data['Customer Age'] < 10, 'Customer Age'] = mean_age"
   ]
  },
  {
   "cell_type": "code",
   "execution_count": 11,
   "id": "f68d4e8a-08aa-4c16-84d7-b15de210e17d",
   "metadata": {},
   "outputs": [
    {
     "data": {
      "text/html": [
       "<div>\n",
       "<style scoped>\n",
       "    .dataframe tbody tr th:only-of-type {\n",
       "        vertical-align: middle;\n",
       "    }\n",
       "\n",
       "    .dataframe tbody tr th {\n",
       "        vertical-align: top;\n",
       "    }\n",
       "\n",
       "    .dataframe thead th {\n",
       "        text-align: right;\n",
       "    }\n",
       "</style>\n",
       "<table border=\"1\" class=\"dataframe\">\n",
       "  <thead>\n",
       "    <tr style=\"text-align: right;\">\n",
       "      <th></th>\n",
       "      <th>Transaction Amount</th>\n",
       "      <th>Quantity</th>\n",
       "      <th>Customer Age</th>\n",
       "      <th>Is Fraudulent</th>\n",
       "      <th>Account Age Days</th>\n",
       "      <th>Transaction Hour</th>\n",
       "    </tr>\n",
       "  </thead>\n",
       "  <tbody>\n",
       "    <tr>\n",
       "      <th>count</th>\n",
       "      <td>1.472952e+06</td>\n",
       "      <td>1.472952e+06</td>\n",
       "      <td>1.472952e+06</td>\n",
       "      <td>1.472952e+06</td>\n",
       "      <td>1.472952e+06</td>\n",
       "      <td>1.472952e+06</td>\n",
       "    </tr>\n",
       "    <tr>\n",
       "      <th>mean</th>\n",
       "      <td>2.267683e+02</td>\n",
       "      <td>3.000230e+00</td>\n",
       "      <td>3.468412e+01</td>\n",
       "      <td>5.012926e-02</td>\n",
       "      <td>1.796464e+02</td>\n",
       "      <td>1.128696e+01</td>\n",
       "    </tr>\n",
       "    <tr>\n",
       "      <th>std</th>\n",
       "      <td>2.703951e+02</td>\n",
       "      <td>1.414736e+00</td>\n",
       "      <td>9.748275e+00</td>\n",
       "      <td>2.182117e-01</td>\n",
       "      <td>1.068642e+02</td>\n",
       "      <td>6.975995e+00</td>\n",
       "    </tr>\n",
       "    <tr>\n",
       "      <th>min</th>\n",
       "      <td>1.000000e+01</td>\n",
       "      <td>1.000000e+00</td>\n",
       "      <td>1.000000e+01</td>\n",
       "      <td>0.000000e+00</td>\n",
       "      <td>1.000000e+00</td>\n",
       "      <td>0.000000e+00</td>\n",
       "    </tr>\n",
       "    <tr>\n",
       "      <th>25%</th>\n",
       "      <td>6.861000e+01</td>\n",
       "      <td>2.000000e+00</td>\n",
       "      <td>2.800000e+01</td>\n",
       "      <td>0.000000e+00</td>\n",
       "      <td>8.600000e+01</td>\n",
       "      <td>5.000000e+00</td>\n",
       "    </tr>\n",
       "    <tr>\n",
       "      <th>50%</th>\n",
       "      <td>1.517600e+02</td>\n",
       "      <td>3.000000e+00</td>\n",
       "      <td>3.500000e+01</td>\n",
       "      <td>0.000000e+00</td>\n",
       "      <td>1.790000e+02</td>\n",
       "      <td>1.100000e+01</td>\n",
       "    </tr>\n",
       "    <tr>\n",
       "      <th>75%</th>\n",
       "      <td>2.960500e+02</td>\n",
       "      <td>4.000000e+00</td>\n",
       "      <td>4.100000e+01</td>\n",
       "      <td>0.000000e+00</td>\n",
       "      <td>2.720000e+02</td>\n",
       "      <td>1.700000e+01</td>\n",
       "    </tr>\n",
       "    <tr>\n",
       "      <th>max</th>\n",
       "      <td>1.270175e+04</td>\n",
       "      <td>5.000000e+00</td>\n",
       "      <td>8.600000e+01</td>\n",
       "      <td>1.000000e+00</td>\n",
       "      <td>3.650000e+02</td>\n",
       "      <td>2.300000e+01</td>\n",
       "    </tr>\n",
       "  </tbody>\n",
       "</table>\n",
       "</div>"
      ],
      "text/plain": [
       "       Transaction Amount      Quantity  Customer Age  Is Fraudulent  \\\n",
       "count        1.472952e+06  1.472952e+06  1.472952e+06   1.472952e+06   \n",
       "mean         2.267683e+02  3.000230e+00  3.468412e+01   5.012926e-02   \n",
       "std          2.703951e+02  1.414736e+00  9.748275e+00   2.182117e-01   \n",
       "min          1.000000e+01  1.000000e+00  1.000000e+01   0.000000e+00   \n",
       "25%          6.861000e+01  2.000000e+00  2.800000e+01   0.000000e+00   \n",
       "50%          1.517600e+02  3.000000e+00  3.500000e+01   0.000000e+00   \n",
       "75%          2.960500e+02  4.000000e+00  4.100000e+01   0.000000e+00   \n",
       "max          1.270175e+04  5.000000e+00  8.600000e+01   1.000000e+00   \n",
       "\n",
       "       Account Age Days  Transaction Hour  \n",
       "count      1.472952e+06      1.472952e+06  \n",
       "mean       1.796464e+02      1.128696e+01  \n",
       "std        1.068642e+02      6.975995e+00  \n",
       "min        1.000000e+00      0.000000e+00  \n",
       "25%        8.600000e+01      5.000000e+00  \n",
       "50%        1.790000e+02      1.100000e+01  \n",
       "75%        2.720000e+02      1.700000e+01  \n",
       "max        3.650000e+02      2.300000e+01  "
      ]
     },
     "execution_count": 11,
     "metadata": {},
     "output_type": "execute_result"
    }
   ],
   "source": [
    "data.describe()"
   ]
  },
  {
   "cell_type": "code",
   "execution_count": 12,
   "id": "ee6b58e4-ff8d-41f5-b25f-83f8d7907880",
   "metadata": {},
   "outputs": [
    {
     "data": {
      "text/plain": [
       "0"
      ]
     },
     "execution_count": 12,
     "metadata": {},
     "output_type": "execute_result"
    }
   ],
   "source": [
    "data.duplicated().sum()"
   ]
  },
  {
   "cell_type": "code",
   "execution_count": 13,
   "id": "6baba9db-eef1-49df-84d5-64b8e34e2f2c",
   "metadata": {},
   "outputs": [
    {
     "data": {
      "text/plain": [
       "Index(['Transaction ID', 'Customer ID', 'Transaction Amount',\n",
       "       'Transaction Date', 'Payment Method', 'Product Category', 'Quantity',\n",
       "       'Customer Age', 'Customer Location', 'Device Used', 'IP Address',\n",
       "       'Shipping Address', 'Billing Address', 'Is Fraudulent',\n",
       "       'Account Age Days', 'Transaction Hour'],\n",
       "      dtype='object')"
      ]
     },
     "execution_count": 13,
     "metadata": {},
     "output_type": "execute_result"
    }
   ],
   "source": [
    "data.columns"
   ]
  },
  {
   "cell_type": "code",
   "execution_count": 14,
   "id": "9da10d82-b249-4e6a-b3cd-8317a7a6df33",
   "metadata": {},
   "outputs": [],
   "source": [
    "data['Address Match'] = (data['Shipping Address'] == data['Billing Address']).astype(int)"
   ]
  },
  {
   "cell_type": "code",
   "execution_count": 15,
   "id": "cd6d4492-c35a-4101-8ed7-99da7491b55b",
   "metadata": {},
   "outputs": [],
   "source": [
    "data = data.drop([\"Transaction ID\",\"Customer ID\",\"Customer Location\",\"Transaction Date\",\"IP Address\",\"Shipping Address\",\"Billing Address\"], axis=1)"
   ]
  },
  {
   "cell_type": "code",
   "execution_count": 16,
   "id": "a79e9176-7565-427e-8ef6-511cd70b2455",
   "metadata": {},
   "outputs": [
    {
     "data": {
      "text/plain": [
       "['Payment Method', 'Product Category', 'Device Used']"
      ]
     },
     "execution_count": 16,
     "metadata": {},
     "output_type": "execute_result"
    }
   ],
   "source": [
    "categorical = data.select_dtypes(include=['object']).columns.tolist()\n",
    "categorical"
   ]
  },
  {
   "cell_type": "code",
   "execution_count": 17,
   "id": "46fff9f2-ee0a-4fa7-94a8-6a5deefed8f4",
   "metadata": {},
   "outputs": [
    {
     "data": {
      "text/plain": [
       "Payment Method\n",
       "credit card      368429\n",
       "bank transfer    368278\n",
       "debit card       368277\n",
       "PayPal           367968\n",
       "Name: count, dtype: int64"
      ]
     },
     "execution_count": 17,
     "metadata": {},
     "output_type": "execute_result"
    }
   ],
   "source": [
    "data['Payment Method'].value_counts()"
   ]
  },
  {
   "cell_type": "code",
   "execution_count": 18,
   "id": "6ed85b17-e5cd-432b-9fe3-3bcc4c90068a",
   "metadata": {},
   "outputs": [],
   "source": [
    "data['Payment Method'] = data['Payment Method'].map({\"debit card\":0,\"credit card\":1,\"PayPal\":2,\"bank transfer\":3})"
   ]
  },
  {
   "cell_type": "code",
   "execution_count": 19,
   "id": "470da06c-8529-4ea3-a17f-7a970f54c03a",
   "metadata": {},
   "outputs": [
    {
     "data": {
      "text/plain": [
       "Product Category\n",
       "health & beauty    295367\n",
       "electronics        295294\n",
       "clothing           294319\n",
       "toys & games       294266\n",
       "home & garden      293706\n",
       "Name: count, dtype: int64"
      ]
     },
     "execution_count": 19,
     "metadata": {},
     "output_type": "execute_result"
    }
   ],
   "source": [
    "data['Product Category'].value_counts()"
   ]
  },
  {
   "cell_type": "code",
   "execution_count": 20,
   "id": "f42691e2-829b-4759-acd1-7200ecb97f01",
   "metadata": {},
   "outputs": [],
   "source": [
    "data['Product Category'] = data['Product Category'].map({\"home & garden\":0,\"electronics\":1,\"toys & games\":2,\"clothing\":3,\"health & beauty\":4})"
   ]
  },
  {
   "cell_type": "code",
   "execution_count": 21,
   "id": "dc2adb4a-c3eb-4be4-b78e-d21cd94dcb7c",
   "metadata": {},
   "outputs": [
    {
     "data": {
      "text/plain": [
       "Device Used\n",
       "mobile     491743\n",
       "tablet     490938\n",
       "desktop    490271\n",
       "Name: count, dtype: int64"
      ]
     },
     "execution_count": 21,
     "metadata": {},
     "output_type": "execute_result"
    }
   ],
   "source": [
    "data['Device Used'].value_counts()"
   ]
  },
  {
   "cell_type": "code",
   "execution_count": 22,
   "id": "0fa9b5aa-0500-4cda-bc25-a7dba3c481f9",
   "metadata": {},
   "outputs": [],
   "source": [
    "data['Device Used'] = data['Device Used'].map({\"desktop\":0,\"mobile\":1,\"tablet\":2,})"
   ]
  },
  {
   "cell_type": "code",
   "execution_count": 23,
   "id": "b8c07727-c6e2-4817-ac33-520e5655752f",
   "metadata": {},
   "outputs": [
    {
     "data": {
      "text/html": [
       "<div>\n",
       "<style scoped>\n",
       "    .dataframe tbody tr th:only-of-type {\n",
       "        vertical-align: middle;\n",
       "    }\n",
       "\n",
       "    .dataframe tbody tr th {\n",
       "        vertical-align: top;\n",
       "    }\n",
       "\n",
       "    .dataframe thead th {\n",
       "        text-align: right;\n",
       "    }\n",
       "</style>\n",
       "<table border=\"1\" class=\"dataframe\">\n",
       "  <thead>\n",
       "    <tr style=\"text-align: right;\">\n",
       "      <th></th>\n",
       "      <th>Transaction Amount</th>\n",
       "      <th>Payment Method</th>\n",
       "      <th>Product Category</th>\n",
       "      <th>Quantity</th>\n",
       "      <th>Customer Age</th>\n",
       "      <th>Device Used</th>\n",
       "      <th>Address Match</th>\n",
       "      <th>Account Age Days</th>\n",
       "      <th>Transaction Hour</th>\n",
       "      <th>Is Fraudulent</th>\n",
       "    </tr>\n",
       "  </thead>\n",
       "  <tbody>\n",
       "    <tr>\n",
       "      <th>0</th>\n",
       "      <td>58.09</td>\n",
       "      <td>3</td>\n",
       "      <td>1</td>\n",
       "      <td>1</td>\n",
       "      <td>17</td>\n",
       "      <td>2</td>\n",
       "      <td>1</td>\n",
       "      <td>30</td>\n",
       "      <td>5</td>\n",
       "      <td>0</td>\n",
       "    </tr>\n",
       "    <tr>\n",
       "      <th>1</th>\n",
       "      <td>389.96</td>\n",
       "      <td>0</td>\n",
       "      <td>1</td>\n",
       "      <td>2</td>\n",
       "      <td>40</td>\n",
       "      <td>0</td>\n",
       "      <td>1</td>\n",
       "      <td>72</td>\n",
       "      <td>8</td>\n",
       "      <td>0</td>\n",
       "    </tr>\n",
       "    <tr>\n",
       "      <th>2</th>\n",
       "      <td>134.19</td>\n",
       "      <td>2</td>\n",
       "      <td>0</td>\n",
       "      <td>2</td>\n",
       "      <td>22</td>\n",
       "      <td>2</td>\n",
       "      <td>1</td>\n",
       "      <td>63</td>\n",
       "      <td>3</td>\n",
       "      <td>0</td>\n",
       "    </tr>\n",
       "    <tr>\n",
       "      <th>3</th>\n",
       "      <td>226.17</td>\n",
       "      <td>3</td>\n",
       "      <td>3</td>\n",
       "      <td>5</td>\n",
       "      <td>31</td>\n",
       "      <td>0</td>\n",
       "      <td>1</td>\n",
       "      <td>124</td>\n",
       "      <td>20</td>\n",
       "      <td>0</td>\n",
       "    </tr>\n",
       "    <tr>\n",
       "      <th>4</th>\n",
       "      <td>121.53</td>\n",
       "      <td>3</td>\n",
       "      <td>3</td>\n",
       "      <td>2</td>\n",
       "      <td>51</td>\n",
       "      <td>2</td>\n",
       "      <td>1</td>\n",
       "      <td>158</td>\n",
       "      <td>5</td>\n",
       "      <td>0</td>\n",
       "    </tr>\n",
       "    <tr>\n",
       "      <th>...</th>\n",
       "      <td>...</td>\n",
       "      <td>...</td>\n",
       "      <td>...</td>\n",
       "      <td>...</td>\n",
       "      <td>...</td>\n",
       "      <td>...</td>\n",
       "      <td>...</td>\n",
       "      <td>...</td>\n",
       "      <td>...</td>\n",
       "      <td>...</td>\n",
       "    </tr>\n",
       "    <tr>\n",
       "      <th>1472947</th>\n",
       "      <td>208.48</td>\n",
       "      <td>2</td>\n",
       "      <td>4</td>\n",
       "      <td>2</td>\n",
       "      <td>29</td>\n",
       "      <td>0</td>\n",
       "      <td>1</td>\n",
       "      <td>149</td>\n",
       "      <td>23</td>\n",
       "      <td>0</td>\n",
       "    </tr>\n",
       "    <tr>\n",
       "      <th>1472948</th>\n",
       "      <td>231.57</td>\n",
       "      <td>1</td>\n",
       "      <td>3</td>\n",
       "      <td>2</td>\n",
       "      <td>32</td>\n",
       "      <td>2</td>\n",
       "      <td>1</td>\n",
       "      <td>132</td>\n",
       "      <td>4</td>\n",
       "      <td>0</td>\n",
       "    </tr>\n",
       "    <tr>\n",
       "      <th>1472949</th>\n",
       "      <td>101.80</td>\n",
       "      <td>3</td>\n",
       "      <td>1</td>\n",
       "      <td>4</td>\n",
       "      <td>36</td>\n",
       "      <td>1</td>\n",
       "      <td>0</td>\n",
       "      <td>98</td>\n",
       "      <td>23</td>\n",
       "      <td>0</td>\n",
       "    </tr>\n",
       "    <tr>\n",
       "      <th>1472950</th>\n",
       "      <td>61.80</td>\n",
       "      <td>3</td>\n",
       "      <td>1</td>\n",
       "      <td>5</td>\n",
       "      <td>34</td>\n",
       "      <td>0</td>\n",
       "      <td>1</td>\n",
       "      <td>191</td>\n",
       "      <td>16</td>\n",
       "      <td>0</td>\n",
       "    </tr>\n",
       "    <tr>\n",
       "      <th>1472951</th>\n",
       "      <td>376.44</td>\n",
       "      <td>3</td>\n",
       "      <td>3</td>\n",
       "      <td>5</td>\n",
       "      <td>34</td>\n",
       "      <td>0</td>\n",
       "      <td>1</td>\n",
       "      <td>274</td>\n",
       "      <td>18</td>\n",
       "      <td>0</td>\n",
       "    </tr>\n",
       "  </tbody>\n",
       "</table>\n",
       "<p>1472952 rows × 10 columns</p>\n",
       "</div>"
      ],
      "text/plain": [
       "         Transaction Amount  Payment Method  Product Category  Quantity  \\\n",
       "0                     58.09               3                 1         1   \n",
       "1                    389.96               0                 1         2   \n",
       "2                    134.19               2                 0         2   \n",
       "3                    226.17               3                 3         5   \n",
       "4                    121.53               3                 3         2   \n",
       "...                     ...             ...               ...       ...   \n",
       "1472947              208.48               2                 4         2   \n",
       "1472948              231.57               1                 3         2   \n",
       "1472949              101.80               3                 1         4   \n",
       "1472950               61.80               3                 1         5   \n",
       "1472951              376.44               3                 3         5   \n",
       "\n",
       "         Customer Age  Device Used  Address Match  Account Age Days  \\\n",
       "0                  17            2              1                30   \n",
       "1                  40            0              1                72   \n",
       "2                  22            2              1                63   \n",
       "3                  31            0              1               124   \n",
       "4                  51            2              1               158   \n",
       "...               ...          ...            ...               ...   \n",
       "1472947            29            0              1               149   \n",
       "1472948            32            2              1               132   \n",
       "1472949            36            1              0                98   \n",
       "1472950            34            0              1               191   \n",
       "1472951            34            0              1               274   \n",
       "\n",
       "         Transaction Hour  Is Fraudulent  \n",
       "0                       5              0  \n",
       "1                       8              0  \n",
       "2                       3              0  \n",
       "3                      20              0  \n",
       "4                       5              0  \n",
       "...                   ...            ...  \n",
       "1472947                23              0  \n",
       "1472948                 4              0  \n",
       "1472949                23              0  \n",
       "1472950                16              0  \n",
       "1472951                18              0  \n",
       "\n",
       "[1472952 rows x 10 columns]"
      ]
     },
     "execution_count": 23,
     "metadata": {},
     "output_type": "execute_result"
    }
   ],
   "source": [
    "new_column_order = ['Transaction Amount', 'Payment Method', 'Product Category', 'Quantity',\n",
    "                   'Customer Age', 'Device Used','Address Match' , 'Account Age Days',\n",
    "                   'Transaction Hour','Is Fraudulent']\n",
    "data = data.reindex(columns=new_column_order)\n",
    "data"
   ]
  },
  {
   "cell_type": "code",
   "execution_count": 24,
   "id": "3aa00241-418d-4d69-aa0a-03c9b1452692",
   "metadata": {},
   "outputs": [
    {
     "data": {
      "text/html": [
       "<div>\n",
       "<style scoped>\n",
       "    .dataframe tbody tr th:only-of-type {\n",
       "        vertical-align: middle;\n",
       "    }\n",
       "\n",
       "    .dataframe tbody tr th {\n",
       "        vertical-align: top;\n",
       "    }\n",
       "\n",
       "    .dataframe thead th {\n",
       "        text-align: right;\n",
       "    }\n",
       "</style>\n",
       "<table border=\"1\" class=\"dataframe\">\n",
       "  <thead>\n",
       "    <tr style=\"text-align: right;\">\n",
       "      <th></th>\n",
       "      <th>Transaction Amount</th>\n",
       "      <th>Payment Method</th>\n",
       "      <th>Product Category</th>\n",
       "      <th>Quantity</th>\n",
       "      <th>Customer Age</th>\n",
       "      <th>Device Used</th>\n",
       "      <th>Address Match</th>\n",
       "      <th>Account Age Days</th>\n",
       "      <th>Transaction Hour</th>\n",
       "      <th>Is Fraudulent</th>\n",
       "    </tr>\n",
       "  </thead>\n",
       "  <tbody>\n",
       "    <tr>\n",
       "      <th>0</th>\n",
       "      <td>0.003789</td>\n",
       "      <td>3</td>\n",
       "      <td>1</td>\n",
       "      <td>0.00</td>\n",
       "      <td>0.092105</td>\n",
       "      <td>2</td>\n",
       "      <td>1</td>\n",
       "      <td>0.079670</td>\n",
       "      <td>0.217391</td>\n",
       "      <td>0</td>\n",
       "    </tr>\n",
       "    <tr>\n",
       "      <th>1</th>\n",
       "      <td>0.029938</td>\n",
       "      <td>0</td>\n",
       "      <td>1</td>\n",
       "      <td>0.25</td>\n",
       "      <td>0.394737</td>\n",
       "      <td>0</td>\n",
       "      <td>1</td>\n",
       "      <td>0.195055</td>\n",
       "      <td>0.347826</td>\n",
       "      <td>0</td>\n",
       "    </tr>\n",
       "    <tr>\n",
       "      <th>2</th>\n",
       "      <td>0.009785</td>\n",
       "      <td>2</td>\n",
       "      <td>0</td>\n",
       "      <td>0.25</td>\n",
       "      <td>0.157895</td>\n",
       "      <td>2</td>\n",
       "      <td>1</td>\n",
       "      <td>0.170330</td>\n",
       "      <td>0.130435</td>\n",
       "      <td>0</td>\n",
       "    </tr>\n",
       "    <tr>\n",
       "      <th>3</th>\n",
       "      <td>0.017032</td>\n",
       "      <td>3</td>\n",
       "      <td>3</td>\n",
       "      <td>1.00</td>\n",
       "      <td>0.276316</td>\n",
       "      <td>0</td>\n",
       "      <td>1</td>\n",
       "      <td>0.337912</td>\n",
       "      <td>0.869565</td>\n",
       "      <td>0</td>\n",
       "    </tr>\n",
       "    <tr>\n",
       "      <th>4</th>\n",
       "      <td>0.008788</td>\n",
       "      <td>3</td>\n",
       "      <td>3</td>\n",
       "      <td>0.25</td>\n",
       "      <td>0.539474</td>\n",
       "      <td>2</td>\n",
       "      <td>1</td>\n",
       "      <td>0.431319</td>\n",
       "      <td>0.217391</td>\n",
       "      <td>0</td>\n",
       "    </tr>\n",
       "  </tbody>\n",
       "</table>\n",
       "</div>"
      ],
      "text/plain": [
       "   Transaction Amount  Payment Method  Product Category  Quantity  \\\n",
       "0            0.003789               3                 1      0.00   \n",
       "1            0.029938               0                 1      0.25   \n",
       "2            0.009785               2                 0      0.25   \n",
       "3            0.017032               3                 3      1.00   \n",
       "4            0.008788               3                 3      0.25   \n",
       "\n",
       "   Customer Age  Device Used  Address Match  Account Age Days  \\\n",
       "0      0.092105            2              1          0.079670   \n",
       "1      0.394737            0              1          0.195055   \n",
       "2      0.157895            2              1          0.170330   \n",
       "3      0.276316            0              1          0.337912   \n",
       "4      0.539474            2              1          0.431319   \n",
       "\n",
       "   Transaction Hour  Is Fraudulent  \n",
       "0          0.217391              0  \n",
       "1          0.347826              0  \n",
       "2          0.130435              0  \n",
       "3          0.869565              0  \n",
       "4          0.217391              0  "
      ]
     },
     "execution_count": 24,
     "metadata": {},
     "output_type": "execute_result"
    }
   ],
   "source": [
    "numeric_features = ['Transaction Amount', 'Quantity', 'Customer Age', 'Account Age Days', 'Transaction Hour']\n",
    "def min_max_scale(x):\n",
    "    return (x - x.min()) / (x.max() - x.min())\n",
    "for feature in numeric_features:\n",
    "    data[feature] = min_max_scale(data[feature])\n",
    "data.head()\n"
   ]
  },
  {
   "cell_type": "markdown",
   "id": "a8069e28-0ff2-44b7-934e-213dd2cc1ea2",
   "metadata": {},
   "source": [
    "DATA VISUALIZATION"
   ]
  },
  {
   "cell_type": "code",
   "execution_count": 25,
   "id": "fab05316-eba7-45d2-9908-419383173b6d",
   "metadata": {},
   "outputs": [],
   "source": [
    "import matplotlib.pyplot as plt\n",
    "import seaborn as sns"
   ]
  },
  {
   "cell_type": "code",
   "execution_count": 26,
   "id": "954e4282-70d6-4a6d-859b-f678b7d755b8",
   "metadata": {},
   "outputs": [
    {
     "data": {
      "image/png": "[encoded data removed]",
      "text/plain": [
       "<Figure size 500x300 with 1 Axes>"
      ]
     },
     "metadata": {},
     "output_type": "display_data"
    }
   ],
   "source": [
    "plt.figure(figsize=(5,3))\n",
    "sns.violinplot(data=data, x='Is Fraudulent', y='Transaction Amount')\n",
    "plt.show()\n"
   ]
  },
  {
   "cell_type": "code",
   "execution_count": 27,
   "id": "c44fc791-b9dc-4b75-a83a-1c830408f417",
   "metadata": {},
   "outputs": [
    {
     "data": {
      "text/plain": [
       "<Axes: >"
      ]
     },
     "execution_count": 27,
     "metadata": {},
     "output_type": "execute_result"
    },
    {
     "data": {
      "image/png": "[encoded data removed]",
      "text/plain": [
       "<Figure size 1000x600 with 2 Axes>"
      ]
     },
     "metadata": {},
     "output_type": "display_data"
    }
   ],
   "source": [
    "plt.figure(figsize=(10,6))\n",
    "sns.heatmap(data.corr(),annot=True)"
   ]
  },
  {
   "cell_type": "markdown",
   "id": "a0f6f65a-56d9-4bcf-8b09-f50c98eba151",
   "metadata": {},
   "source": [
    "MODEL BUILDING AND PREPARATION"
   ]
  },
  {
   "cell_type": "code",
   "execution_count": 28,
   "id": "84b1d66e-a08d-4561-83d0-1894fb11fcb8",
   "metadata": {},
   "outputs": [
    {
     "data": {
      "text/plain": [
       "((1472952, 9), (1472952,))"
      ]
     },
     "execution_count": 28,
     "metadata": {},
     "output_type": "execute_result"
    }
   ],
   "source": [
    "X = data.drop('Is Fraudulent', axis=1)\n",
    "y = data['Is Fraudulent']\n",
    "X.shape, y.shape"
   ]
  },
  {
   "cell_type": "code",
   "execution_count": 29,
   "id": "68f1d934-2086-4e46-933c-ffedd03cc946",
   "metadata": {},
   "outputs": [],
   "source": [
    "from sklearn.naive_bayes import GaussianNB\n",
    "from sklearn.model_selection import train_test_split\n",
    "X_train,X_test,y_train,y_test=train_test_split(X,y,test_size=0.2,random_state=42)\n",
    "from sklearn import neighbors\n",
    "from sklearn.tree import DecisionTreeClassifier\n",
    "from sklearn.metrics import accuracy_score, confusion_matrix\n",
    "from sklearn.metrics import precision_score\n",
    "from sklearn.metrics import recall_score\n",
    "from sklearn.metrics import f1_score"
   ]
  },
  {
   "cell_type": "code",
   "execution_count": 30,
   "id": "d0d86205-8c33-4c9e-b92c-b19f2d19317c",
   "metadata": {},
   "outputs": [
    {
     "name": "stdout",
     "output_type": "stream",
     "text": [
      "The Accuracy of Prediction is: 0.9432569223092355\n",
      "The precision of Prediction is: 0.3795017266896892\n",
      "The recall score of Prediction is: 0.2084405907058664\n",
      "The f1 score of Prediction is: 0.26908613904678613\n",
      "The confusion matrix of Prediction is: [[274798   5031]\n",
      " [ 11685   3077]]\n"
     ]
    }
   ],
   "source": [
    "# Gaussian Naive Bayes classifier\n",
    "gnb = GaussianNB()\n",
    "\n",
    "# Train the classifier on the training data\n",
    "gnb.fit(X_train, y_train)\n",
    "# Make predictions on the testing data\n",
    "y_pred = gnb.predict(X_test)\n",
    "\n",
    "# Calculate the accuracy of the model\n",
    "accuracy = accuracy_score(y_test, y_pred)\n",
    "print(\"The Accuracy of Prediction is:\", accuracy)\n",
    "\n",
    "# Calculate the precision of the model\n",
    "precision = precision_score(y_test, y_pred, zero_division=1)\n",
    "print(\"The precision of Prediction is:\", precision)\n",
    "\n",
    "# Calculate the recall of the model\n",
    "recall = recall_score(y_test, y_pred, zero_division=1)\n",
    "print(\"The recall score of Prediction is:\", recall)\n",
    "\n",
    "# Calculate the f1 score of the model\n",
    "fscore = f1_score(y_test, y_pred, zero_division=1)\n",
    "print(\"The f1 score of Prediction is:\", fscore)\n",
    "\n",
    "# Calculate the confusion matrix of the model\n",
    "confusion_m = confusion_matrix(y_test, y_pred)\n",
    "print(\"The confusion matrix of Prediction is:\", confusion_m)"
   ]
  },
  {
   "cell_type": "code",
   "execution_count": 31,
   "id": "51e3a293-8050-4009-8d20-238080d37daf",
   "metadata": {},
   "outputs": [
    {
     "name": "stdout",
     "output_type": "stream",
     "text": [
      "The Accuracy of Prediction is: 0.9432569223092355\n",
      "The precision of Prediction is: 0.3795017266896892\n",
      "The recall score of Prediction is: 0.2084405907058664\n",
      "The f1 score of Prediction is: 0.26908613904678613\n",
      "The confusion matrix of Prediction is: [[274798   5031]\n",
      " [ 11685   3077]]\n"
     ]
    }
   ],
   "source": [
    "#KNClassfier\n",
    "from sklearn import neighbors\n",
    "knn=neighbors.KNeighborsClassifier().fit(X_train,y_train)\n",
    "knn.score(X_test,y_test)\n",
    "\n",
    "# Calculate the accuracy of the model\n",
    "accuracy = accuracy_score(y_test, y_pred)\n",
    "print(\"The Accuracy of Prediction is:\", accuracy)\n",
    "\n",
    "# Calculate the precision of the model\n",
    "precision = precision_score(y_test, y_pred, zero_division=1)\n",
    "print(\"The precision of Prediction is:\", precision)\n",
    "\n",
    "# Calculate the recall of the model\n",
    "recall = recall_score(y_test, y_pred, zero_division=1)\n",
    "print(\"The recall score of Prediction is:\", recall)\n",
    "\n",
    "# Calculate the f1 score of the model\n",
    "fscore = f1_score(y_test, y_pred, zero_division=1)\n",
    "print(\"The f1 score of Prediction is:\", fscore)\n",
    "\n",
    "# Calculate the confusion matrix of the model\n",
    "confusion_m = confusion_matrix(y_test, y_pred)\n",
    "print(\"The confusion matrix of Prediction is:\", confusion_m)"
   ]
  },
  {
   "cell_type": "code",
   "execution_count": 32,
   "id": "bb14e5f1-f9b3-4eae-bcb5-a72189de0914",
   "metadata": {},
   "outputs": [
    {
     "name": "stdout",
     "output_type": "stream",
     "text": [
      "Accuracy: 91.54149312097111\n",
      "Confusion Matrix:\n",
      "[[265885  13944]\n",
      " [ 10974   3788]]\n",
      "\n",
      " Score Precision :\n",
      " 21.362508459282655\n",
      "\n",
      " Recall Score :\n",
      " 25.660479609808966\n",
      "\n",
      " F1 Score :\n",
      " 23.315073552040374\n"
     ]
    }
   ],
   "source": [
    "classifier = DecisionTreeClassifier()\n",
    "classifier.fit(X_train, y_train)\n",
    "y_pred = classifier.predict(X_test)\n",
    "#Accuracy score\n",
    "accuracy = accuracy_score(y_test, y_pred) * 100\n",
    "print(\"Accuracy:\", accuracy) \n",
    "\n",
    "#Confusion Matrix\n",
    "confusion_mat = confusion_matrix(y_test, y_pred)\n",
    "print(\"Confusion Matrix:\")\n",
    "print(confusion_mat)\n",
    "\n",
    "#Precision\n",
    "precision=precision_score(y_test, y_pred, pos_label=1)*100\n",
    "print('\\n Score Precision :\\n',precision )\n",
    "\n",
    "#Recall\n",
    "# Recall = TP / (TP + FN)\n",
    "recall=recall_score(y_test, y_pred, pos_label=1)*100\n",
    "print(\"\\n Recall Score :\\n\", recall)\n",
    "\n",
    "#F1 score\n",
    "fscore=f1_score(y_test, y_pred, pos_label=1)*100\n",
    "print(\"\\n F1 Score :\\n\", fscore)"
   ]
  },
  {
   "cell_type": "code",
   "execution_count": 33,
   "id": "709a890f-4977-4616-8ece-91bb4085d505",
   "metadata": {},
   "outputs": [
    {
     "name": "stdout",
     "output_type": "stream",
     "text": [
      "Cross-validation scores for KNN: [0.94877224 0.94837316 0.94868716 0.9486914  0.94889932]\n",
      "Mean accuracy of KNN: 0.9486846559860828\n"
     ]
    }
   ],
   "source": [
    "from sklearn.model_selection import cross_val_score\n",
    "from sklearn.neighbors import KNeighborsClassifier\n",
    "from sklearn.metrics import accuracy_score\n",
    "knn_classifier = KNeighborsClassifier()\n",
    "\n",
    "# Perform cross-validation for KNN classifier\n",
    "knn_scores = cross_val_score(knn_classifier, X_train, y_train, cv=5)  # cv=5 indicates 5-fold cross-validation\n",
    "\n",
    "print(\"Cross-validation scores for KNN:\", knn_scores)\n",
    "print(\"Mean accuracy of KNN:\", knn_scores.mean())\n"
   ]
  },
  {
   "cell_type": "code",
   "execution_count": 34,
   "id": "335ec192-68ee-4d95-a1fe-cc059fc84fc1",
   "metadata": {},
   "outputs": [
    {
     "name": "stdout",
     "output_type": "stream",
     "text": [
      "Cross-validation scores for Naive Bayes: [0.94317126 0.94274246 0.94331953 0.94358685 0.94343834]\n",
      "Mean accuracy of Naive Bayes: 0.9432516860965592\n"
     ]
    }
   ],
   "source": [
    "#cross validation on naive bayes\n",
    "nb_classifier = GaussianNB()\n",
    "\n",
    "# Perform cross-validation for Naive Bayes classifier\n",
    "nb_scores = cross_val_score(nb_classifier, X_train, y_train, cv=5)\n",
    "\n",
    "print(\"Cross-validation scores for Naive Bayes:\", nb_scores)\n",
    "print(\"Mean accuracy of Naive Bayes:\", nb_scores.mean())"
   ]
  },
  {
   "cell_type": "code",
   "execution_count": 35,
   "id": "9bec224c-b873-484c-8aca-814b9fdeed4f",
   "metadata": {},
   "outputs": [
    {
     "name": "stdout",
     "output_type": "stream",
     "text": [
      "Random Subsampling Average Accuracy of Naive Bayes: 0.943144223686399\n"
     ]
    }
   ],
   "source": [
    "#random subsampling for naive bayes\n",
    "num_iterations = 5\n",
    "classifer=GaussianNB()\n",
    "random_subsample_accuracies = []\n",
    "\n",
    "for i in range(num_iterations):\n",
    "    X_train, X_test, y_train, y_test = train_test_split(X, y, test_size=0.2)\n",
    "    classifer.fit(X_train, y_train)\n",
    "    accuracy = classifer.score(X_test, y_test)\n",
    "    random_subsample_accuracies.append(accuracy)\n",
    "\n",
    "average_random_subsample_accuracy = np.mean(random_subsample_accuracies)\n",
    "print(\"Random Subsampling Average Accuracy of Naive Bayes:\", average_random_subsample_accuracy)"
   ]
  },
  {
   "cell_type": "code",
   "execution_count": 36,
   "id": "1bda8b51-e264-4ae2-bbd4-15c2dd94c5a3",
   "metadata": {},
   "outputs": [
    {
     "name": "stdout",
     "output_type": "stream",
     "text": [
      "Random Subsampling Average Accuracy of KNN: 0.948599244376101\n"
     ]
    }
   ],
   "source": [
    "#random subsampling for K-Neighbors\n",
    "num_iterations = 5\n",
    "classifer=KNeighborsClassifier()\n",
    "random_subsample_accuracies = []\n",
    "\n",
    "for i in range(num_iterations):\n",
    "    X_train, X_test, y_train, y_test = train_test_split(X, y, test_size=0.2)\n",
    "    classifer.fit(X_train, y_train)\n",
    "    accuracy = classifer.score(X_test, y_test)\n",
    "    random_subsample_accuracies.append(accuracy)\n",
    "\n",
    "average_random_subsample_accuracy = np.mean(random_subsample_accuracies)\n",
    "print(\"Random Subsampling Average Accuracy of KNN:\", average_random_subsample_accuracy)"
   ]
  },
  {
   "cell_type": "code",
   "execution_count": null,
   "id": "ef364c2d-c84a-4edf-8261-218ca39d342b",
   "metadata": {},
   "outputs": [],
   "source": []
  }
 ],
 "metadata": {
  "kernelspec": {
   "display_name": "Python 3 (ipykernel)",
   "language": "python",
   "name": "python3"
  },
  "language_info": {
   "codemirror_mode": {
    "name": "ipython",
    "version": 3
   },
   "file_extension": ".py",
   "mimetype": "text/x-python",
   "name": "python",
   "nbconvert_exporter": "python",
   "pygments_lexer": "ipython3",
   "version": "3.11.7"
  }
 },
 "nbformat": 4,
 "nbformat_minor": 5
}
